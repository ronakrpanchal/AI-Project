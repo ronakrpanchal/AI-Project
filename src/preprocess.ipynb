{
 "cells": [
  {
   "cell_type": "code",
   "execution_count": 1,
   "id": "d86f52fb",
   "metadata": {},
   "outputs": [],
   "source": [
    "from dotenv import load_dotenv\n",
    "import os\n",
    "\n",
    "load_dotenv()\n",
    "\n",
    "TRAIN_DATA_PATH = os.getenv(\"TRAIN_DATA_PATH\")\n",
    "TEST_DATA_PATH = os.getenv(\"TEST_DATA_PATH\")\n",
    "PRE_TRAIN_DATA_PATH = os.getenv(\"PRE_TRAIN_DATA_PATH\")\n",
    "PRE_TEST_DATA_PATH = os.getenv(\"PRE_TEST_DATA_PATH\")\n",
    "TEST_LABELS_PATH = os.getenv(\"TEST_LABELS_PATH\")\n"
   ]
  },
  {
   "cell_type": "code",
   "execution_count": 11,
   "id": "4c2f608b",
   "metadata": {},
   "outputs": [],
   "source": [
    "import re\n",
    "import pandas as pd\n",
    "from nltk.corpus import stopwords\n",
    "from nltk.tokenize import word_tokenize\n",
    "import nltk\n",
    "import spacy\n",
    "from tqdm import tqdm"
   ]
  },
  {
   "cell_type": "code",
   "execution_count": 12,
   "id": "8160821d",
   "metadata": {},
   "outputs": [
    {
     "name": "stderr",
     "output_type": "stream",
     "text": [
      "[nltk_data] Downloading package punkt_tab to\n",
      "[nltk_data]     /Users/ronakpanchal/nltk_data...\n",
      "[nltk_data]   Package punkt_tab is already up-to-date!\n",
      "[nltk_data] Downloading package punkt to\n",
      "[nltk_data]     /Users/ronakpanchal/nltk_data...\n",
      "[nltk_data]   Package punkt is already up-to-date!\n",
      "[nltk_data] Downloading package stopwords to\n",
      "[nltk_data]     /Users/ronakpanchal/nltk_data...\n",
      "[nltk_data]   Package stopwords is already up-to-date!\n"
     ]
    }
   ],
   "source": [
    "nltk.download('punkt_tab')\n",
    "nltk.download('punkt')\n",
    "nltk.download('stopwords')\n",
    "nlp = spacy.load('en_core_web_sm')\n",
    "stop_words = set(stopwords.words('english'))"
   ]
  },
  {
   "cell_type": "code",
   "execution_count": 13,
   "id": "fe3fb17f",
   "metadata": {},
   "outputs": [],
   "source": [
    "def clean_text(text):\n",
    "    text = text.lower()\n",
    "    text = re.sub(r\"http\\S+|www\\S+|https\\S+\", '', text)  # Remove URLs\n",
    "    text = re.sub(r'\\S+@\\S+', '', text)  # Remove emails\n",
    "    text = re.sub(r'<.*?>', '', text)  # Remove HTML tags\n",
    "    text = re.sub(r\"[^a-zA-Z\\s]\", '', text)  # Remove special characters and numbers\n",
    "    text = re.sub(r'\\s+', ' ', text).strip()  # Remove extra spaces\n",
    "    return text"
   ]
  },
  {
   "cell_type": "code",
   "execution_count": 14,
   "id": "87d12598",
   "metadata": {},
   "outputs": [],
   "source": [
    "def tokenize_lemmatize(text):\n",
    "    tokens = word_tokenize(text)\n",
    "    filtered_tokens = [word for word in tokens if word not in stop_words]\n",
    "    doc = nlp(' '.join(filtered_tokens))\n",
    "    return ' '.join([token.lemma_ for token in doc])"
   ]
  },
  {
   "cell_type": "code",
   "execution_count": 15,
   "id": "6dfc88f3",
   "metadata": {},
   "outputs": [],
   "source": [
    "def preprocess_dataframe(df, text_column='comment_text'):\n",
    "    tqdm.pandas()\n",
    "    df['clean_text'] = df[text_column].progress_apply(clean_text)\n",
    "    df['lemmatized'] = df['clean_text'].progress_apply(tokenize_lemmatize)\n",
    "    return df"
   ]
  },
  {
   "cell_type": "code",
   "execution_count": 16,
   "id": "c656d23c",
   "metadata": {},
   "outputs": [
    {
     "name": "stderr",
     "output_type": "stream",
     "text": [
      "100%|██████████| 159571/159571 [00:04<00:00, 32678.36it/s]\n",
      "100%|██████████| 159571/159571 [05:40<00:00, 468.20it/s]\n",
      "100%|██████████| 153164/153164 [00:04<00:00, 35779.50it/s]\n",
      "100%|██████████| 153164/153164 [05:06<00:00, 500.23it/s]\n"
     ]
    }
   ],
   "source": [
    "train_df = pd.read_csv(str(TRAIN_DATA_PATH))\n",
    "test_df = pd.read_csv(str(TEST_DATA_PATH))\n",
    "\n",
    "preprocessed_train_df = preprocess_dataframe(train_df)\n",
    "preprocessed_test_df = preprocess_dataframe(test_df)"
   ]
  },
  {
   "cell_type": "code",
   "execution_count": 17,
   "id": "7a77fef0",
   "metadata": {},
   "outputs": [],
   "source": [
    "test_labels = pd.read_csv(str(TEST_LABELS_PATH))\n",
    "test_labels = test_labels[test_labels['toxic']!=-1]\n",
    "full_test = preprocessed_test_df.merge(test_labels,on='id')"
   ]
  },
  {
   "cell_type": "code",
   "execution_count": 18,
   "id": "98532d93",
   "metadata": {},
   "outputs": [],
   "source": [
    "preprocessed_train_df.to_csv(str(PRE_TRAIN_DATA_PATH), index=False)\n",
    "full_test.to_csv(str(PRE_TEST_DATA_PATH), index=False)"
   ]
  }
 ],
 "metadata": {
  "kernelspec": {
   "display_name": "Python 3",
   "language": "python",
   "name": "python3"
  },
  "language_info": {
   "codemirror_mode": {
    "name": "ipython",
    "version": 3
   },
   "file_extension": ".py",
   "mimetype": "text/x-python",
   "name": "python",
   "nbconvert_exporter": "python",
   "pygments_lexer": "ipython3",
   "version": "3.12.4"
  }
 },
 "nbformat": 4,
 "nbformat_minor": 5
}
